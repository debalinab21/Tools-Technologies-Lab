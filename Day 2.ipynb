{
 "cells": [
  {
   "cell_type": "code",
   "execution_count": 1,
   "id": "5cf96954",
   "metadata": {},
   "outputs": [
    {
     "name": "stdout",
     "output_type": "stream",
     "text": [
      "a is smaller\n"
     ]
    }
   ],
   "source": [
    "a=10\n",
    "b=20\n",
    "if a<b:\n",
    "    print(\"a is smaller\")\n",
    "else:\n",
    "    print(\"b is smaller\")"
   ]
  },
  {
   "cell_type": "code",
   "execution_count": 2,
   "id": "cdbb1c67",
   "metadata": {},
   "outputs": [
    {
     "name": "stdout",
     "output_type": "stream",
     "text": [
      "c is largest\n"
     ]
    }
   ],
   "source": [
    "c = 30\n",
    "if a>b and a>c:\n",
    "    print(\"a is largest\")\n",
    "elif b>c and b>a:\n",
    "    print('b is largest')\n",
    "else:\n",
    "    print('c is largest')"
   ]
  },
  {
   "cell_type": "code",
   "execution_count": 3,
   "id": "ec5696fe",
   "metadata": {},
   "outputs": [
    {
     "name": "stdout",
     "output_type": "stream",
     "text": [
      "<class 'list'>\n"
     ]
    }
   ],
   "source": [
    "list1 = [1, 'hi','python',2]\n",
    "print(type(list1))"
   ]
  },
  {
   "cell_type": "code",
   "execution_count": 14,
   "id": "7270620b",
   "metadata": {},
   "outputs": [],
   "source": [
    "#d = 2\n",
    "#print(type(d))"
   ]
  },
  {
   "cell_type": "code",
   "execution_count": 7,
   "id": "feffafe1",
   "metadata": {},
   "outputs": [
    {
     "name": "stdout",
     "output_type": "stream",
     "text": [
      "[2]\n"
     ]
    }
   ],
   "source": [
    "print(list1[3:])"
   ]
  },
  {
   "cell_type": "code",
   "execution_count": 8,
   "id": "3bf3d201",
   "metadata": {},
   "outputs": [
    {
     "name": "stdout",
     "output_type": "stream",
     "text": [
      "[1, 'hi', 'python', 2]\n"
     ]
    }
   ],
   "source": [
    "print(list1[0:])"
   ]
  },
  {
   "cell_type": "code",
   "execution_count": 9,
   "id": "765bf35b",
   "metadata": {},
   "outputs": [
    {
     "name": "stdout",
     "output_type": "stream",
     "text": [
      "['hi', 'python', 2]\n"
     ]
    }
   ],
   "source": [
    "print(list1[1:])"
   ]
  },
  {
   "cell_type": "code",
   "execution_count": 10,
   "id": "4c071d6c",
   "metadata": {},
   "outputs": [
    {
     "name": "stdout",
     "output_type": "stream",
     "text": [
      "[1, 'hi']\n"
     ]
    }
   ],
   "source": [
    "print(list1[0:2])"
   ]
  },
  {
   "cell_type": "code",
   "execution_count": 11,
   "id": "fb42ca4f",
   "metadata": {},
   "outputs": [
    {
     "name": "stdout",
     "output_type": "stream",
     "text": [
      "[1, 'hi', 'python']\n"
     ]
    }
   ],
   "source": [
    "print(list1[0:3])"
   ]
  },
  {
   "cell_type": "code",
   "execution_count": 12,
   "id": "65411499",
   "metadata": {},
   "outputs": [
    {
     "name": "stdout",
     "output_type": "stream",
     "text": [
      "[1, 'hi', 'python', 2, 1, 'hi', 'python', 2]\n"
     ]
    }
   ],
   "source": [
    "print(list1 + list1)"
   ]
  },
  {
   "cell_type": "code",
   "execution_count": 13,
   "id": "faf1155c",
   "metadata": {},
   "outputs": [
    {
     "name": "stdout",
     "output_type": "stream",
     "text": [
      "[1, 'hi', 'python', 2, 1, 'hi', 'python', 2, 1, 'hi', 'python', 2]\n"
     ]
    }
   ],
   "source": [
    "print(list1 * 3)"
   ]
  },
  {
   "cell_type": "code",
   "execution_count": 15,
   "id": "ba9a5ca7",
   "metadata": {},
   "outputs": [
    {
     "name": "stdout",
     "output_type": "stream",
     "text": [
      "{1: 'Jimmy', 2: 'Alex', 3: 'john', 4: 'mike'}\n"
     ]
    }
   ],
   "source": [
    "d = {1:'Jimmy',2:'Alex',3:'john',4:'mike'}\n"
   ]
  },
  {
   "cell_type": "code",
   "execution_count": 16,
   "id": "8121de7d",
   "metadata": {},
   "outputs": [
    {
     "name": "stdout",
     "output_type": "stream",
     "text": [
      "{1: 'Jimmy', 2: 'Alex', 3: 'john', 4: 'mike'}\n"
     ]
    }
   ],
   "source": [
    "print(d)\n"
   ]
  },
  {
   "cell_type": "code",
   "execution_count": 19,
   "id": "fe129aef",
   "metadata": {},
   "outputs": [
    {
     "name": "stdout",
     "output_type": "stream",
     "text": [
      "1st name is Jimmy\n"
     ]
    }
   ],
   "source": [
    "print('1st name is '+ d[1])"
   ]
  },
  {
   "cell_type": "code",
   "execution_count": 20,
   "id": "0c3a0b5a",
   "metadata": {},
   "outputs": [
    {
     "name": "stdout",
     "output_type": "stream",
     "text": [
      "dict_keys([1, 2, 3, 4])\n"
     ]
    }
   ],
   "source": [
    "print(d.keys())"
   ]
  },
  {
   "cell_type": "code",
   "execution_count": 21,
   "id": "ef550396",
   "metadata": {},
   "outputs": [
    {
     "name": "stdout",
     "output_type": "stream",
     "text": [
      "dict_values(['Jimmy', 'Alex', 'john', 'mike'])\n"
     ]
    }
   ],
   "source": [
    "print(d.values())"
   ]
  },
  {
   "cell_type": "code",
   "execution_count": 22,
   "id": "f86ba6ec",
   "metadata": {},
   "outputs": [
    {
     "name": "stdout",
     "output_type": "stream",
     "text": [
      "Enter a number: 3\n",
      "Enter a second number:2\n",
      "Enter a third number: 5\n",
      "3\n",
      "2\n",
      "5\n"
     ]
    }
   ],
   "source": [
    "a = int(input('Enter a number: '))\n",
    "b = int(input('Enter a second number:'))\n",
    "c = int(input('Enter a third number: '))\n",
    "print(a)\n",
    "print(b)\n",
    "print(c)"
   ]
  },
  {
   "cell_type": "code",
   "execution_count": 23,
   "id": "c7e92329",
   "metadata": {},
   "outputs": [],
   "source": [
    "numbers = [4, 2, 6, 7, 3, 5, 8, 10, 6, 1, 9, 2]"
   ]
  },
  {
   "cell_type": "code",
   "execution_count": 24,
   "id": "ee9c3810",
   "metadata": {},
   "outputs": [
    {
     "name": "stdout",
     "output_type": "stream",
     "text": [
      "the list of squares is [16, 4, 36, 49, 9, 25, 64, 100, 36, 1, 81, 4]\n"
     ]
    }
   ],
   "source": [
    "square = 0\n",
    "squares = []\n",
    "for i in numbers:\n",
    "    square = i **2\n",
    "    squares.append(square)\n",
    "print(\"the list of squares is\", squares)\n",
    "    "
   ]
  },
  {
   "cell_type": "code",
   "execution_count": 25,
   "id": "1a121c74",
   "metadata": {},
   "outputs": [
    {
     "name": "stdout",
     "output_type": "stream",
     "text": [
      "the list of squares is [0, 1, 4, 9, 16, 25, 36, 49, 64, 81]\n"
     ]
    }
   ],
   "source": [
    "square = 0\n",
    "squares = []\n",
    "for i in range(0,10):\n",
    "    square = i **2\n",
    "    squares.append(square)\n",
    "print(\"the list of squares is\", squares)\n",
    "    "
   ]
  },
  {
   "cell_type": "code",
   "execution_count": 26,
   "id": "5a2835d6",
   "metadata": {},
   "outputs": [
    {
     "name": "stdout",
     "output_type": "stream",
     "text": [
      "the list of squares is [0, 4, 16, 36, 64]\n"
     ]
    }
   ],
   "source": [
    "square = 0\n",
    "squares = []\n",
    "for i in range(0,10,2):\n",
    "    square = i **2\n",
    "    squares.append(square)\n",
    "print(\"the list of squares is\", squares)\n",
    "    "
   ]
  },
  {
   "cell_type": "code",
   "execution_count": 28,
   "id": "2357a9be",
   "metadata": {},
   "outputs": [
    {
     "name": "stdout",
     "output_type": "stream",
     "text": [
      "p\n",
      "y\n",
      "t\n",
      "h\n",
      "if block\n",
      "n\n",
      " \n",
      "l\n",
      "if block\n",
      "if block\n",
      "p\n"
     ]
    }
   ],
   "source": [
    "string = 'python loop'\n",
    "for s in string:\n",
    "    if s=='o':\n",
    "        print(\"if block\")\n",
    "    else:\n",
    "        print(s)"
   ]
  },
  {
   "cell_type": "markdown",
   "id": "8a6068ee",
   "metadata": {},
   "source": [
    "## Guess Game"
   ]
  },
  {
   "cell_type": "code",
   "execution_count": 29,
   "id": "e00a72d6",
   "metadata": {},
   "outputs": [],
   "source": [
    "import random\n"
   ]
  },
  {
   "cell_type": "code",
   "execution_count": 37,
   "id": "9ecf99f5",
   "metadata": {},
   "outputs": [
    {
     "name": "stdout",
     "output_type": "stream",
     "text": [
      "81\n"
     ]
    }
   ],
   "source": [
    "\n",
    "print(n)"
   ]
  },
  {
   "cell_type": "code",
   "execution_count": 46,
   "id": "8a46b912",
   "metadata": {},
   "outputs": [
    {
     "name": "stdout",
     "output_type": "stream",
     "text": [
      "Guess a number: 45\n",
      "too high, go lower\n",
      "Guess a number: 32\n",
      "too high, go lower\n",
      "Guess a number: 12\n",
      "too low\n",
      "Guess a number: 25\n",
      "too high, go lower\n",
      "Guess a number: 21\n",
      "too high, go lower\n",
      "Guess a number: 18\n",
      "too high, go lower\n",
      "Guess a number: 16\n",
      "too high, go lower\n",
      "Guess a number: 15\n",
      "too high, go lower\n",
      "Guess a number: 14\n",
      "too high, go lower\n",
      "Guess a number: 13\n",
      "You guessed it right!\n"
     ]
    }
   ],
   "source": [
    "n = random.randint(1,100)\n",
    "\n",
    "while(1):\n",
    "    guess_number = int(input('Guess a number: '))\n",
    "    if guess_number == n:\n",
    "        print(\"You guessed it right!\")\n",
    "        break\n",
    "    elif guess_number<n:\n",
    "        print(\"too low\")\n",
    "     \n",
    "    elif guess_number>n:\n",
    "        print('too high, go lower')\n",
    "      "
   ]
  },
  {
   "cell_type": "code",
   "execution_count": 41,
   "id": "6c9c1404",
   "metadata": {},
   "outputs": [],
   "source": [
    "import numpy "
   ]
  },
  {
   "cell_type": "code",
   "execution_count": 42,
   "id": "e3d42640",
   "metadata": {},
   "outputs": [],
   "source": [
    "a = numpy.array"
   ]
  },
  {
   "cell_type": "code",
   "execution_count": 44,
   "id": "3e44b863",
   "metadata": {},
   "outputs": [
    {
     "name": "stdout",
     "output_type": "stream",
     "text": [
      "7\n"
     ]
    }
   ],
   "source": [
    "def addition(a,b):\n",
    "    return a+b\n",
    "print(addition(1,6))"
   ]
  },
  {
   "cell_type": "code",
   "execution_count": 45,
   "id": "a6232eae",
   "metadata": {},
   "outputs": [
    {
     "name": "stdout",
     "output_type": "stream",
     "text": [
      "7\n"
     ]
    }
   ],
   "source": [
    "add = lambda x, y: x+y\n",
    "print(add(1,6))"
   ]
  },
  {
   "cell_type": "code",
   "execution_count": 47,
   "id": "d6c7b735",
   "metadata": {},
   "outputs": [
    {
     "name": "stdout",
     "output_type": "stream",
     "text": [
      "15\n"
     ]
    }
   ],
   "source": [
    "x = lambda a: a+10\n",
    "print(x(5))"
   ]
  },
  {
   "cell_type": "code",
   "execution_count": 49,
   "id": "ae74a58a",
   "metadata": {},
   "outputs": [
    {
     "name": "stdout",
     "output_type": "stream",
     "text": [
      "6\n"
     ]
    }
   ],
   "source": [
    "x = lambda a,b: a*b\n",
    "print(x(2,3))"
   ]
  },
  {
   "cell_type": "code",
   "execution_count": 51,
   "id": "a070adc0",
   "metadata": {},
   "outputs": [
    {
     "name": "stdout",
     "output_type": "stream",
     "text": [
      "64\n"
     ]
    }
   ],
   "source": [
    "def squared(b):\n",
    "    return lambda a: a**b\n",
    "c = squared(3)\n",
    "print(c(4))"
   ]
  },
  {
   "cell_type": "code",
   "execution_count": 52,
   "id": "e02ef50d",
   "metadata": {},
   "outputs": [],
   "source": [
    "l = [1,2,3,4,5,6,7,8,9]\n",
    "odd_list = list( filter(lambda x:(x%2!=0),l)) #filter is a function "
   ]
  },
  {
   "cell_type": "code",
   "execution_count": 53,
   "id": "649de74f",
   "metadata": {},
   "outputs": [
    {
     "name": "stdout",
     "output_type": "stream",
     "text": [
      "[1, 3, 5, 7, 9]\n"
     ]
    }
   ],
   "source": [
    "print(odd_list)"
   ]
  },
  {
   "cell_type": "markdown",
   "id": "8e1bb9d4",
   "metadata": {},
   "source": [
    "        list cannot be multiplied with a number map function operate on values of list\n"
   ]
  },
  {
   "cell_type": "code",
   "execution_count": 57,
   "id": "12436df8",
   "metadata": {},
   "outputs": [
    {
     "name": "stdout",
     "output_type": "stream",
     "text": [
      "[2, 4, 6, 8, 10, 12, 14, 16, 18]\n"
     ]
    }
   ],
   "source": [
    "mul_2 = list(map(lambda x:x*2, l))\n",
    "print(mul_2)"
   ]
  },
  {
   "cell_type": "code",
   "execution_count": 59,
   "id": "fb9d820e",
   "metadata": {},
   "outputs": [],
   "source": [
    "l1 = [2,7,25,14, 4, 1, 90]\n",
    "sorted_li = sorted(l1, key=lambda x:x) #key tells the sorted func which type of values are to be sorted \n",
    "#here we are telling it to sort the elements in the list"
   ]
  },
  {
   "cell_type": "code",
   "execution_count": 60,
   "id": "5c7e6c4a",
   "metadata": {},
   "outputs": [
    {
     "name": "stdout",
     "output_type": "stream",
     "text": [
      "[1, 2, 4, 7, 14, 25, 90]\n"
     ]
    }
   ],
   "source": [
    "print(sorted_li)"
   ]
  },
  {
   "cell_type": "code",
   "execution_count": 62,
   "id": "41a75767",
   "metadata": {},
   "outputs": [
    {
     "name": "stdout",
     "output_type": "stream",
     "text": [
      "2\n"
     ]
    }
   ],
   "source": [
    "def subtraction(x,y):\n",
    "    return x-y\n",
    "print(subtraction(7,5))"
   ]
  },
  {
   "cell_type": "code",
   "execution_count": 63,
   "id": "5d70582c",
   "metadata": {},
   "outputs": [
    {
     "name": "stdout",
     "output_type": "stream",
     "text": [
      "2\n"
     ]
    }
   ],
   "source": [
    "sub = lambda a,b: a-b\n",
    "print(sub(7,5))"
   ]
  },
  {
   "cell_type": "code",
   "execution_count": 64,
   "id": "53acec2f",
   "metadata": {},
   "outputs": [
    {
     "name": "stdout",
     "output_type": "stream",
     "text": [
      "2\n"
     ]
    }
   ],
   "source": [
    "def mul(x,y):\n",
    "    return x*y\n",
    "print(subtraction(7,5))"
   ]
  },
  {
   "cell_type": "code",
   "execution_count": 65,
   "id": "b64dce97",
   "metadata": {},
   "outputs": [
    {
     "name": "stdout",
     "output_type": "stream",
     "text": [
      "2\n"
     ]
    }
   ],
   "source": [
    "mul = lambda a,b: a*b\n",
    "print(sub(7,5))"
   ]
  },
  {
   "cell_type": "code",
   "execution_count": 68,
   "id": "3b0f16c6",
   "metadata": {},
   "outputs": [
    {
     "name": "stdout",
     "output_type": "stream",
     "text": [
      "1.4\n"
     ]
    }
   ],
   "source": [
    "def div(x,y):\n",
    "    return x/y\n",
    "print(div(7,5))"
   ]
  },
  {
   "cell_type": "code",
   "execution_count": 71,
   "id": "3a396385",
   "metadata": {},
   "outputs": [
    {
     "name": "stdout",
     "output_type": "stream",
     "text": [
      "1.4\n"
     ]
    }
   ],
   "source": [
    "div = lambda a,b: a/b\n",
    "print(div(7,5))"
   ]
  },
  {
   "cell_type": "code",
   "execution_count": 85,
   "id": "269705b9",
   "metadata": {},
   "outputs": [],
   "source": [
    "l2 = [[6,2],[5,4]]"
   ]
  },
  {
   "cell_type": "code",
   "execution_count": 86,
   "id": "01cb5dca",
   "metadata": {},
   "outputs": [
    {
     "name": "stdout",
     "output_type": "stream",
     "text": [
      "[[5, 4]]\n"
     ]
    }
   ],
   "source": [
    "#print(l2[0][1])\n",
    "\n",
    "odd_list = list( filter(lambda x:(x[0]%2!=0),l2))\n",
    "print(odd_list)"
   ]
  },
  {
   "cell_type": "code",
   "execution_count": 87,
   "id": "56ae1ef1",
   "metadata": {},
   "outputs": [
    {
     "name": "stdout",
     "output_type": "stream",
     "text": [
      "[[5, 4], [6, 2]]\n"
     ]
    }
   ],
   "source": [
    "\n",
    "sorted_li = sorted(l2, key=lambda x:x)\n",
    "print(sorted_li)"
   ]
  },
  {
   "cell_type": "code",
   "execution_count": 88,
   "id": "73058fbc",
   "metadata": {},
   "outputs": [
    {
     "name": "stdout",
     "output_type": "stream",
     "text": [
      "[12, 10]\n"
     ]
    }
   ],
   "source": [
    "mul_2 = list(map(lambda x:x[0]*2, l2))\n",
    "print(mul_2)"
   ]
  },
  {
   "cell_type": "code",
   "execution_count": 117,
   "id": "11d467ed",
   "metadata": {},
   "outputs": [],
   "source": [
    "l3 = [[7,2,5,4],[6,3,'mia',9],[18,21,45,32]]\n",
    "#print(l3[1:])"
   ]
  },
  {
   "cell_type": "code",
   "execution_count": 118,
   "id": "6ec9f8e2",
   "metadata": {},
   "outputs": [
    {
     "name": "stdout",
     "output_type": "stream",
     "text": [
      "[[7, 2, 5, 4]]\n"
     ]
    }
   ],
   "source": [
    "odd_list = list( filter(lambda x:(x[0]%2!=0),l3))\n",
    "print(odd_list)"
   ]
  },
  {
   "cell_type": "code",
   "execution_count": 119,
   "id": "8e76c45e",
   "metadata": {},
   "outputs": [
    {
     "name": "stdout",
     "output_type": "stream",
     "text": [
      "[[6, 3, 'mia', 9], [7, 2, 5, 4], [18, 21, 45, 32]]\n"
     ]
    }
   ],
   "source": [
    "sorted_li = sorted(l3, key=lambda x:x)\n",
    "print(sorted_li)"
   ]
  },
  {
   "cell_type": "code",
   "execution_count": 120,
   "id": "6322bfdb",
   "metadata": {},
   "outputs": [
    {
     "name": "stdout",
     "output_type": "stream",
     "text": [
      "[14, 12, 36]\n"
     ]
    }
   ],
   "source": [
    "mul_2 = list(map(lambda x:x[0]*2, l3))\n",
    "print(mul_2)"
   ]
  },
  {
   "cell_type": "code",
   "execution_count": 101,
   "id": "5c82830b",
   "metadata": {},
   "outputs": [],
   "source": [
    "d = {1:'apple',2:'banana',3:'cat',4:'dog'}"
   ]
  },
  {
   "cell_type": "code",
   "execution_count": 113,
   "id": "3434a7e7",
   "metadata": {},
   "outputs": [
    {
     "name": "stdout",
     "output_type": "stream",
     "text": [
      "[1, 3]\n"
     ]
    }
   ],
   "source": [
    "odd_list = list( filter(lambda x:(x%2!=0),d.keys()))\n",
    "print(odd_list)"
   ]
  },
  {
   "cell_type": "code",
   "execution_count": 107,
   "id": "78e726b6",
   "metadata": {},
   "outputs": [
    {
     "name": "stdout",
     "output_type": "stream",
     "text": [
      "[1, 2, 3, 4]\n"
     ]
    }
   ],
   "source": [
    "sorted_li = sorted(d.keys(), key=lambda x:x)\n",
    "print(sorted_li)"
   ]
  },
  {
   "cell_type": "code",
   "execution_count": 108,
   "id": "6d294aed",
   "metadata": {},
   "outputs": [
    {
     "name": "stdout",
     "output_type": "stream",
     "text": [
      "['apple', 'banana', 'cat', 'dog']\n"
     ]
    }
   ],
   "source": [
    "sorted_li = sorted(d.values(), key=lambda x:x)\n",
    "print(sorted_li)"
   ]
  },
  {
   "cell_type": "code",
   "execution_count": 116,
   "id": "ace4023b",
   "metadata": {},
   "outputs": [
    {
     "name": "stdout",
     "output_type": "stream",
     "text": [
      "[2, 4, 6, 8]\n"
     ]
    }
   ],
   "source": [
    "mul_2 = list(map(lambda x:x*2, d.keys()))\n",
    "print(mul_2)"
   ]
  },
  {
   "cell_type": "code",
   "execution_count": null,
   "id": "241585df",
   "metadata": {},
   "outputs": [],
   "source": []
  }
 ],
 "metadata": {
  "kernelspec": {
   "display_name": "Python 3 (ipykernel)",
   "language": "python",
   "name": "python3"
  },
  "language_info": {
   "codemirror_mode": {
    "name": "ipython",
    "version": 3
   },
   "file_extension": ".py",
   "mimetype": "text/x-python",
   "name": "python",
   "nbconvert_exporter": "python",
   "pygments_lexer": "ipython3",
   "version": "3.10.9"
  }
 },
 "nbformat": 4,
 "nbformat_minor": 5
}
