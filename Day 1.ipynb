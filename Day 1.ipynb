{
 "cells": [
  {
   "cell_type": "markdown",
   "id": "316514cf",
   "metadata": {},
   "source": []
  },
  {
   "cell_type": "code",
   "execution_count": 1,
   "id": "66b23861",
   "metadata": {},
   "outputs": [
    {
     "name": "stdout",
     "output_type": "stream",
     "text": [
      "hello world\n"
     ]
    }
   ],
   "source": [
    "print(\"hello world\")"
   ]
  },
  {
   "cell_type": "code",
   "execution_count": 2,
   "id": "7cae29f5",
   "metadata": {},
   "outputs": [
    {
     "name": "stdout",
     "output_type": "stream",
     "text": [
      "Enter a name of student:Nupur Mishra\n",
      "The student name is: Nupur Mishra\n"
     ]
    }
   ],
   "source": [
    "name = input(\"Enter a name of student:\")\n",
    "print(\"The student name is:\",name)"
   ]
  },
  {
   "cell_type": "code",
   "execution_count": 3,
   "id": "b3b52bfc",
   "metadata": {},
   "outputs": [
    {
     "name": "stdout",
     "output_type": "stream",
     "text": [
      "Enter a number:2\n",
      "Enter a number:3\n",
      "5\n"
     ]
    }
   ],
   "source": [
    "a = int(input(\"Enter a number:\"))\n",
    "b = int(input(\"Enter a number:\"))\n",
    "print(a+b)"
   ]
  },
  {
   "cell_type": "code",
   "execution_count": 9,
   "id": "6878e0d8",
   "metadata": {},
   "outputs": [
    {
     "name": "stdout",
     "output_type": "stream",
     "text": [
      "<class 'int'>\n",
      "<class 'float'>\n",
      "<class 'str'>\n",
      "<class 'str'>\n",
      "<class 'bool'>\n"
     ]
    }
   ],
   "source": [
    "a = 10\n",
    "b = 10.3 \n",
    "c = 'Hi'\n",
    "d = \"hello\"\n",
    "e = True\n",
    "print(type(a))\n",
    "print(type(b))\n",
    "print(type(c))\n",
    "print(type(d))\n",
    "print(type(e))"
   ]
  },
  {
   "cell_type": "code",
   "execution_count": 13,
   "id": "833decf5",
   "metadata": {},
   "outputs": [
    {
     "name": "stdout",
     "output_type": "stream",
     "text": [
      "1802770515728\n",
      "1802770515728\n",
      "1802883209648\n"
     ]
    }
   ],
   "source": [
    "a = 50\n",
    "b = a\n",
    "print(id(a))\n",
    "print(id(b))\n",
    "a = 500\n",
    "print(id(a))"
   ]
  },
  {
   "cell_type": "code",
   "execution_count": 17,
   "id": "efba8c5c",
   "metadata": {},
   "outputs": [
    {
     "name": "stdout",
     "output_type": "stream",
     "text": [
      "The type of c is: <class 'complex'>\n",
      "c is a complex number: True\n",
      "The type of c is: <class 'complex'>\n"
     ]
    }
   ],
   "source": [
    "a = 1+3j\n",
    "print('The type of c is:', type(a))\n",
    "print(\"c is a complex number:\",isinstance(1+3j,complex))\n",
    "b = 3j\n",
    "print('The type of c is:', type(b))"
   ]
  },
  {
   "cell_type": "code",
   "execution_count": 18,
   "id": "199c9f12",
   "metadata": {},
   "outputs": [
    {
     "name": "stdout",
     "output_type": "stream",
     "text": [
      "we\n",
      "o\n",
      "welcome to KIITwelcome to KIIT\n",
      "welcome to KIIThow are you\n"
     ]
    }
   ],
   "source": [
    "str1 = 'welcome to KIIT'\n",
    "str2 = 'how are you'\n",
    "print(str1[0:2]) #printing first two character using slice operator \n",
    "print(str1[4]) #printing 4th character of the string \n",
    "print(str1*2) #printing the string twice\n",
    "print(str1 + str2) #printing the concatenation of the str1 and str2"
   ]
  },
  {
   "cell_type": "code",
   "execution_count": 19,
   "id": "aea8b9ed",
   "metadata": {},
   "outputs": [
    {
     "name": "stdout",
     "output_type": "stream",
     "text": [
      "<class 'list'>\n",
      "[1, 'hi', 'Python', 2]\n",
      "[2]\n",
      "[1, 'hi']\n",
      "[1, 'hi', 'Python', 2, 1, 'hi', 'Python', 2]\n",
      "[1, 'hi', 'Python', 2, 1, 'hi', 'Python', 2, 1, 'hi', 'Python', 2]\n"
     ]
    }
   ],
   "source": [
    "list1 = [1, 'hi','Python',2]\n",
    "print(type(list1))\n",
    "print(list1) #printing the list1\n",
    "print(list1[3:]) #list slicing\n",
    "print(list1[0:2]) #list slicing \n",
    "print(list1 + list1) #list concatenation using + operator\n",
    "print(list1 *3) "
   ]
  },
  {
   "cell_type": "code",
   "execution_count": 21,
   "id": "4db29293",
   "metadata": {},
   "outputs": [
    {
     "name": "stdout",
     "output_type": "stream",
     "text": [
      "{1: 'jimmy', 2: 'Alex', 3: 'john', 4: 'mike'}\n",
      "1st name is jimmy\n",
      "2nd name is mike\n",
      "dict_keys([1, 2, 3, 4])\n",
      "dict_values(['jimmy', 'Alex', 'john', 'mike'])\n"
     ]
    }
   ],
   "source": [
    "d = {1:'jimmy',2:'Alex',3:'john',4:'mike'}\n",
    "print(d) #printing dictionary\n",
    "print(\"1st name is \"+d[1])\n",
    "print(\"2nd name is \"+d[4])\n",
    "print(d.keys())\n",
    "print(d.values())"
   ]
  },
  {
   "cell_type": "code",
   "execution_count": 23,
   "id": "564d980c",
   "metadata": {},
   "outputs": [
    {
     "name": "stdout",
     "output_type": "stream",
     "text": [
      "Enter a?3\n",
      "Enter b?2\n",
      "Enter c?7\n",
      "c is largest\n"
     ]
    }
   ],
   "source": [
    "a = int(input('Enter a?'))\n",
    "b = int(input('Enter b?'))\n",
    "c = int(input('Enter c?'))\n",
    "if a>b and a>c:\n",
    "    print('a is largest')\n",
    "if b>a and b>c:\n",
    "    print('b is largest')\n",
    "if c>a and c>b:\n",
    "    print('c is largest')\n",
    "    "
   ]
  },
  {
   "cell_type": "code",
   "execution_count": 25,
   "id": "c7cb5313",
   "metadata": {},
   "outputs": [
    {
     "name": "stdout",
     "output_type": "stream",
     "text": [
      "enter the number?4\n",
      "number is even\n"
     ]
    }
   ],
   "source": [
    "num = int(input('enter the number?'))\n",
    "if num%2 == 0:\n",
    "    print(\"number is even\")"
   ]
  },
  {
   "cell_type": "code",
   "execution_count": 29,
   "id": "41ae3e15",
   "metadata": {},
   "outputs": [
    {
     "name": "stdout",
     "output_type": "stream",
     "text": [
      "Enter a?6\n",
      "Enter b?4\n",
      "Enter c?7\n",
      "largest number is str(7)\n"
     ]
    }
   ],
   "source": [
    "a = int(input('Enter a?'))\n",
    "b = int(input('Enter b?'))\n",
    "c = int(input('Enter c?'))\n",
    "largest = max(a,b,c)\n",
    "print(f\"largest number is {largest}\")\n",
    "    "
   ]
  },
  {
   "cell_type": "code",
   "execution_count": 30,
   "id": "86370161",
   "metadata": {},
   "outputs": [
    {
     "name": "stdout",
     "output_type": "stream",
     "text": [
      "Enter the marks98\n",
      "Congrats! you scored grade A....\n"
     ]
    }
   ],
   "source": [
    "marks = int(input('Enter the marks'))\n",
    "if marks>85 and marks <=100:\n",
    "    print(\"Congrats! you scored grade A....\")\n",
    "elif marks>60 and marks<=85:\n",
    "    print('You scored grade B+....')\n",
    "elif marks>40 and marks<=60:\n",
    "    print('you scored grade B...')\n",
    "elif marks>30 and marks<=40:\n",
    "    print(\"you scored grade  C\")\n",
    "else:\n",
    "    print('Sorry you are fail?')"
   ]
  },
  {
   "cell_type": "code",
   "execution_count": 36,
   "id": "74293f5a",
   "metadata": {},
   "outputs": [
    {
     "name": "stdout",
     "output_type": "stream",
     "text": [
      "the list of squares is [0, 0, 0, 0, 0, 0, 0, 0, 0, 0, 0]\n"
     ]
    }
   ],
   "source": [
    "numbers = [4,2,6,7,3,5,8,10,6,1,9]\n",
    "square = 0\n",
    "squares = []\n",
    "for value in numbers:\n",
    "    sqaure = value**2\n",
    "    squares.append(square)\n",
    "print('the list of squares is',squares)"
   ]
  },
  {
   "cell_type": "code",
   "execution_count": 48,
   "id": "5f7e46fd",
   "metadata": {},
   "outputs": [
    {
     "name": "stdout",
     "output_type": "stream",
     "text": [
      "the list of squares is [16, 4, 36, 49, 9, 25, 64, 100, 36, 1, 81]\n"
     ]
    }
   ],
   "source": [
    "numbers = [4,2,6,7,3,5,8,10,6,1,9]\n",
    "square = 1\n",
    "squares = []\n",
    "for value in numbers:\n",
    "    \n",
    "    square = value ** 2\n",
    "    \n",
    "    squares.append(square)\n",
    "print(\"the list of squares is\",squares)"
   ]
  },
  {
   "cell_type": "code",
   "execution_count": 50,
   "id": "1da1621e",
   "metadata": {},
   "outputs": [
    {
     "name": "stdout",
     "output_type": "stream",
     "text": [
      "P\n",
      "y\n",
      "t\n",
      "h\n",
      "if block\n",
      "n\n",
      " \n",
      "L\n",
      "if block\n",
      "if block\n",
      "p\n"
     ]
    }
   ],
   "source": [
    "string = \"Python Loop\"\n",
    "for s in string:\n",
    "    if s == 'o':\n",
    "        print('if block')\n",
    "    else:\n",
    "        print(s)"
   ]
  },
  {
   "cell_type": "code",
   "execution_count": 51,
   "id": "446a6a88",
   "metadata": {},
   "outputs": [
    {
     "name": "stdout",
     "output_type": "stream",
     "text": [
      "1\n",
      "2\n",
      "3\n",
      "4\n",
      "5\n",
      "6\n",
      "7\n",
      "8\n",
      "9\n",
      "10\n"
     ]
    }
   ],
   "source": [
    "for n in range(1,11):\n",
    "    print(n)"
   ]
  },
  {
   "cell_type": "code",
   "execution_count": null,
   "id": "f0d10680",
   "metadata": {},
   "outputs": [],
   "source": []
  }
 ],
 "metadata": {
  "kernelspec": {
   "display_name": "Python 3 (ipykernel)",
   "language": "python",
   "name": "python3"
  },
  "language_info": {
   "codemirror_mode": {
    "name": "ipython",
    "version": 3
   },
   "file_extension": ".py",
   "mimetype": "text/x-python",
   "name": "python",
   "nbconvert_exporter": "python",
   "pygments_lexer": "ipython3",
   "version": "3.10.9"
  }
 },
 "nbformat": 4,
 "nbformat_minor": 5
}
