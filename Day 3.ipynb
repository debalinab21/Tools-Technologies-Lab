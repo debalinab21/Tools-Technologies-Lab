{
 "cells": [
  {
   "cell_type": "code",
   "execution_count": 22,
   "id": "d67aa980",
   "metadata": {},
   "outputs": [
    {
     "name": "stdout",
     "output_type": "stream",
     "text": [
      "Hyundai, i20, 2020\n",
      "Maruti, WagonR, 2021\n"
     ]
    }
   ],
   "source": [
    "class Vehicle:\n",
    "    def __init__ (self,make, model, year):\n",
    "        self.make = make\n",
    "        self.model = model\n",
    "        self.year = year\n",
    "\n",
    "    def display_info(self):\n",
    "        print (f\"{self.make}, {self.model}, {self.year}\")\n",
    "    \n",
    "    def __add__ (self,other):\n",
    "        if isinstance(other,Vehicle):\n",
    "            combined_make_model = f\"{self.make}{self.model}+{other.make}{other.model}\"\n",
    "            return combined_make_model\n",
    "        else:\n",
    "            return NotImplemented\n",
    "        \n",
    "v1 = Vehicle(\"Hyundai\",\"i20\", 2020)\n",
    "v2 = Vehicle(\"Maruti\",\"WagonR\", 2021)\n",
    "\n",
    "v1.display_info()\n",
    "v2.display_info()\n"
   ]
  },
  {
   "cell_type": "code",
   "execution_count": 21,
   "id": "1d6836e8",
   "metadata": {},
   "outputs": [
    {
     "name": "stdout",
     "output_type": "stream",
     "text": [
      "Mahindra, Thar, 2020\n",
      "Hyundai, Creta, 2021\n",
      "\n",
      " Combined make and model: \n",
      "MahindraThar+HyundaiCreta\n",
      "\n",
      " Car1:\n",
      "\n",
      "Hyundai, Creta, 2024\n",
      "Number Of Doors:4, Fuel Type:Gasoline\n",
      "\n",
      " Car2:\n",
      "\n",
      "Hyundai, Verna, 2022\n",
      "Number Of Doors:4, Fuel Type:Diesel\n"
     ]
    }
   ],
   "source": [
    "class Car(Vehicle):\n",
    "    def __init__(self,make,model,year,num_doors,fuel_type):\n",
    "        super().__init__(make, model, year)\n",
    "        self.num_doors = num_doors\n",
    "        self.fuel_type = fuel_type\n",
    "    def display_info(self):\n",
    "        super().display_info()\n",
    "        print(f\"Number Of Doors:{self.num_doors}, Fuel Type:{self.fuel_type}\")\n",
    "        \n",
    "v1= Vehicle(\"Mahindra\",\"Thar\", 2020)\n",
    "v2= Vehicle(\"Hyundai\",\"Creta\", 2021)\n",
    "\n",
    "v1.display_info()\n",
    "v2.display_info() \n",
    "result= v1 + v2\n",
    "print (\"\\n Combined make and model: \")\n",
    "print(result)\n",
    "\n",
    "car1= Car(\"Hyundai\", \"Creta\", 2024, 4, \"Gasoline\") \n",
    "car2= Car(\"Hyundai\", \"Verna\", 2022, 4, \"Diesel\") \n",
    "\n",
    "\n",
    "\n",
    "print(\"\\n Car1:\\n\")\n",
    "car1.display_info()\n",
    "print(\"\\n Car2:\\n\")\n",
    "car2.display_info()\n"
   ]
  },
  {
   "cell_type": "code",
   "execution_count": 23,
   "id": "fad1881b",
   "metadata": {
    "scrolled": true
   },
   "outputs": [
    {
     "name": "stdout",
     "output_type": "stream",
     "text": [
      "Original List: [1, 2, 3, 4, 5]\n",
      "List after adding elements: [1, 2, 3, 4, 5, 6, 7, 8, 9]\n",
      "Element at index 2: 3\n",
      "List after modifying element at index 1: [1, 10, 3, 4, 5, 6, 7, 8, 9]\n",
      "List after removing element 4: [1, 10, 3, 5, 6, 7, 8, 9]\n",
      "List after removing element at index 3: [1, 10, 3, 6, 7, 8, 9]\n",
      "Removed element: 5\n",
      "Final List: [1, 10, 3, 6, 7, 8, 9]\n"
     ]
    }
   ],
   "source": [
    "#q7\n",
    "# Creating a list of numbers\n",
    "numbers_list = [1, 2, 3, 4, 5]\n",
    "\n",
    "# Displaying the original list\n",
    "print(\"Original List:\", numbers_list)\n",
    "\n",
    "# Adding elements to the list\n",
    "numbers_list.append(6)  # Appending a single element\n",
    "numbers_list.extend([7, 8, 9])  # Extending with multiple elements\n",
    "\n",
    "# Displaying the list after adding elements\n",
    "print(\"List after adding elements:\", numbers_list)\n",
    "\n",
    "# Accessing elements by index\n",
    "index_to_access = 2\n",
    "element_at_index = numbers_list[index_to_access]\n",
    "print(f\"Element at index {index_to_access}: {element_at_index}\")\n",
    "\n",
    "# Modifying elements by index\n",
    "index_to_modify = 1\n",
    "new_value = 10\n",
    "numbers_list[index_to_modify] = new_value\n",
    "print(f\"List after modifying element at index {index_to_modify}: {numbers_list}\")\n",
    "\n",
    "# Removing elements from the list\n",
    "element_to_remove = 4\n",
    "if element_to_remove in numbers_list:\n",
    "    numbers_list.remove(element_to_remove)\n",
    "    print(f\"List after removing element {element_to_remove}: {numbers_list}\")\n",
    "else:\n",
    "    print(f\"Element {element_to_remove} not found in the list.\")\n",
    "\n",
    "# Removing element by index\n",
    "index_to_remove = 3\n",
    "if 0 <= index_to_remove < len(numbers_list):\n",
    "    removed_element = numbers_list.pop(index_to_remove)\n",
    "    print(f\"List after removing element at index {index_to_remove}: {numbers_list}\")\n",
    "    print(f\"Removed element: {removed_element}\")\n",
    "else:\n",
    "    print(f\"Index {index_to_remove} is out of bounds.\")\n",
    "\n",
    "# Displaying the final list\n",
    "print(\"Final List:\", numbers_list)"
   ]
  },
  {
   "cell_type": "code",
   "execution_count": 26,
   "id": "0f387da3",
   "metadata": {},
   "outputs": [
    {
     "name": "stdout",
     "output_type": "stream",
     "text": [
      "Element at index 2: 3\n",
      "Error: 'tuple' object does not support item assignment\n",
      "Concatenated Tuple: (1, 2, 3, 4, 5, 6, 7, 8)\n",
      "Repeated Tuple: (1, 2, 3, 4, 5, 1, 2, 3, 4, 5)\n",
      "3 is present in the tuple.\n",
      "Length of the Tuple: 5\n",
      "Original Tuple: (1, 2, 3, 4, 5)\n"
     ]
    }
   ],
   "source": [
    "#q8\n",
    "# Creating a tuple\n",
    "my_tuple = (1, 2, 3, 4, 5)\n",
    "\n",
    "# Accessing elements by index\n",
    "index_to_access = 2\n",
    "element_at_index = my_tuple[index_to_access]\n",
    "print(f\"Element at index {index_to_access}: {element_at_index}\")\n",
    "\n",
    "# Trying to modify a tuple (Note: This will raise an error as tuples are immutable)\n",
    "try:\n",
    "    my_tuple[0] = 10\n",
    "except TypeError as e:\n",
    "    print(f\"Error: {e}\")\n",
    "\n",
    "# Concatenating tuples\n",
    "another_tuple = (6, 7, 8)\n",
    "concatenated_tuple = my_tuple + another_tuple\n",
    "print(\"Concatenated Tuple:\", concatenated_tuple)\n",
    "\n",
    "# Repeating a tuple\n",
    "repeated_tuple = my_tuple * 2\n",
    "print(\"Repeated Tuple:\", repeated_tuple)\n",
    "\n",
    "# Checking if an element is present in the tuple\n",
    "element_to_check = 3\n",
    "if element_to_check in my_tuple:\n",
    "    print(f\"{element_to_check} is present in the tuple.\")\n",
    "else:\n",
    "    print(f\"{element_to_check} is not present in the tuple.\")\n",
    "\n",
    "# Finding the length of the tuple\n",
    "tuple_length = len(my_tuple)\n",
    "print(\"Length of the Tuple:\", tuple_length)\n",
    "\n",
    "# Displaying the original tuple\n",
    "print(\"Original Tuple:\", my_tuple)\n",
    "\n"
   ]
  },
  {
   "cell_type": "code",
   "execution_count": 27,
   "id": "b87d30f0",
   "metadata": {},
   "outputs": [
    {
     "name": "stdout",
     "output_type": "stream",
     "text": [
      "Set 1: {1, 2, 3, 4, 5}\n",
      "Set 2: {3, 4, 5, 6, 7}\n",
      "Union of Set 1 and Set 2: {1, 2, 3, 4, 5, 6, 7}\n",
      "Intersection of Set 1 and Set 2: {3, 4, 5}\n",
      "Difference (Set 1 - Set 2): {1, 2}\n",
      "Difference (Set 2 - Set 1): {6, 7}\n",
      "Symmetric Difference of Set 1 and Set 2: {1, 2, 6, 7}\n"
     ]
    }
   ],
   "source": [
    "#q9\n",
    "# Creating sets\n",
    "set1 = {1, 2, 3, 4, 5}\n",
    "set2 = {3, 4, 5, 6, 7}\n",
    "\n",
    "# Displaying the original sets\n",
    "print(\"Set 1:\", set1)\n",
    "print(\"Set 2:\", set2)\n",
    "\n",
    "# Union of sets\n",
    "union_set = set1.union(set2)\n",
    "print(\"Union of Set 1 and Set 2:\", union_set)\n",
    "\n",
    "# Intersection of sets\n",
    "intersection_set = set1.intersection(set2)\n",
    "print(\"Intersection of Set 1 and Set 2:\", intersection_set)\n",
    "\n",
    "# Difference between sets\n",
    "difference_set1_minus_set2 = set1.difference(set2)\n",
    "difference_set2_minus_set1 = set2.difference(set1)\n",
    "\n",
    "print(\"Difference (Set 1 - Set 2):\", difference_set1_minus_set2)\n",
    "print(\"Difference (Set 2 - Set 1):\", difference_set2_minus_set1)\n",
    "\n",
    "# Symmetric difference (elements present in either set, but not in both)\n",
    "symmetric_difference_set = set1.symmetric_difference(set2)\n",
    "print(\"Symmetric Difference of Set 1 and Set 2:\", symmetric_difference_set)\n"
   ]
  },
  {
   "cell_type": "code",
   "execution_count": 28,
   "id": "c5778fec",
   "metadata": {},
   "outputs": [
    {
     "name": "stdout",
     "output_type": "stream",
     "text": [
      "Original Dictionary: {'name': 'John', 'age': 25, 'city': 'New York'}\n",
      "Name: John\n",
      "Dictionary after adding a new key-value pair: {'name': 'John', 'age': 25, 'city': 'New York', 'occupation': 'Engineer'}\n",
      "Dictionary after updating the value of 'age': {'name': 'John', 'age': 26, 'city': 'New York', 'occupation': 'Engineer'}\n",
      "city is present in the dictionary.\n",
      "Dictionary after removing the key-value pair with key 'occupation': {'name': 'John', 'age': 26, 'city': 'New York'}\n",
      "Final Dictionary: {'name': 'John', 'age': 26, 'city': 'New York'}\n"
     ]
    }
   ],
   "source": [
    "#q10\n",
    "# Creating a dictionary\n",
    "my_dict = {'name': 'John', 'age': 25, 'city': 'New York'}\n",
    "\n",
    "# Displaying the original dictionary\n",
    "print(\"Original Dictionary:\", my_dict)\n",
    "\n",
    "# Accessing values by key\n",
    "name_value = my_dict['name']\n",
    "print(\"Name:\", name_value)\n",
    "\n",
    "# Adding a new key-value pair\n",
    "my_dict['occupation'] = 'Engineer'\n",
    "print(\"Dictionary after adding a new key-value pair:\", my_dict)\n",
    "\n",
    "# Updating the value of an existing key\n",
    "my_dict['age'] = 26\n",
    "print(\"Dictionary after updating the value of 'age':\", my_dict)\n",
    "\n",
    "# Checking if a key is present in the dictionary\n",
    "key_to_check = 'city'\n",
    "if key_to_check in my_dict:\n",
    "    print(f\"{key_to_check} is present in the dictionary.\")\n",
    "else:\n",
    "    print(f\"{key_to_check} is not present in the dictionary.\")\n",
    "\n",
    "# Removing a key-value pair\n",
    "key_to_remove = 'occupation'\n",
    "if key_to_remove in my_dict:\n",
    "    del my_dict[key_to_remove]\n",
    "    print(f\"Dictionary after removing the key-value pair with key '{key_to_remove}':\", my_dict)\n",
    "else:\n",
    "    print(f\"Key '{key_to_remove}' not found in the dictionary.\")\n",
    "\n",
    "# Displaying the final dictionary\n",
    "print(\"Final Dictionary:\", my_dict)\n"
   ]
  },
  {
   "cell_type": "code",
   "execution_count": 29,
   "id": "4f59c8e8",
   "metadata": {},
   "outputs": [
    {
     "name": "stdout",
     "output_type": "stream",
     "text": [
      "\n",
      "Array sum:\n",
      " [[5 5]\n",
      " [5 5]]\n",
      "\n",
      "Array Diff:\n",
      " [[-3 -1]\n",
      " [ 1  3]]\n",
      "\n",
      "Array Multi:\n",
      " [[4 6]\n",
      " [6 4]]\n",
      "\n",
      "Array Div:\n",
      " [[0.25       0.66666667]\n",
      " [1.5        4.        ]]\n"
     ]
    }
   ],
   "source": [
    "#NUMPY\n",
    "\n",
    "import numpy as np\n",
    "\n",
    "arr1 = np.array([[1, 2],[3, 4]])\n",
    " \n",
    "arr2 = np.array([[4, 3],[2, 1]])\n",
    "print (\"\\nArray sum:\\n\", arr1 + arr2)\n",
    "print (\"\\nArray Diff:\\n\", arr1 - arr2)\n",
    "print (\"\\nArray Multi:\\n\", arr1 * arr2)\n",
    "print (\"\\nArray Div:\\n\", arr1 / arr2)"
   ]
  },
  {
   "cell_type": "code",
   "execution_count": 32,
   "id": "1cdbc899",
   "metadata": {},
   "outputs": [
    {
     "name": "stdout",
     "output_type": "stream",
     "text": [
      "index\n",
      "[[3 4]]\n",
      "[[1 2]\n",
      " [3 4]]\n",
      "[[1 2]\n",
      " [3 4]]\n",
      "[[3 4]]\n",
      "\n",
      "\n",
      "Slice\n",
      "[[2 1]]\n",
      "[[4 3]]\n"
     ]
    }
   ],
   "source": [
    "#index\n",
    "print(\"index\")\n",
    "print(arr1[1:])\n",
    "print(arr1[:2])\n",
    "print(arr1[:])\n",
    "print(arr1[1:4])\n",
    "\n",
    "#slice\n",
    "print(\"\\n\\nSlice\")\n",
    "print(arr2[1::2])\n",
    "print(arr2[::2])"
   ]
  },
  {
   "cell_type": "code",
   "execution_count": 33,
   "id": "27d02ac2",
   "metadata": {},
   "outputs": [
    {
     "name": "stdout",
     "output_type": "stream",
     "text": [
      "Mean: 3.4444444444444446\n",
      "Median: 3.0\n",
      "Mode: 4\n"
     ]
    }
   ],
   "source": [
    "#mean median mode\n",
    "import numpy as np\n",
    "\n",
    "# Create a NumPy array\n",
    "arr = np.array([1, 2, 3, 3, 5, 4, 6, 4, 3])\n",
    "\n",
    "# Calculate the mean\n",
    "mean = np.mean(arr)\n",
    "\n",
    "# Calculate the median\n",
    "median = np.median(arr)\n",
    "\n",
    "# Calculate the mode\n",
    "\n",
    "mode = np.unique(arr)[np.argmax(np.bincount(arr))]\n",
    "\n",
    "# Print the results\n",
    "print(\"Mean:\", mean)\n",
    "print(\"Median:\", median)\n",
    "print(\"Mode:\", mode)\n"
   ]
  },
  {
   "cell_type": "code",
   "execution_count": 35,
   "id": "b2e63321",
   "metadata": {},
   "outputs": [
    {
     "name": "stdout",
     "output_type": "stream",
     "text": [
      "Initial shape: (2, 5)\n",
      "[[ 1  2  3  4  5]\n",
      " [10  9  8  7  6]]\n",
      "Shape after reshaping: (5, 2)\n",
      "[[ 1  2]\n",
      " [ 3  4]\n",
      " [ 5 10]\n",
      " [ 9  8]\n",
      " [ 7  6]]\n",
      "\n",
      "\n",
      "\n",
      "\n",
      "Transpose of Array: \n",
      "[[ 1  3  5  9  7]\n",
      " [ 2  4 10  8  6]]\n"
     ]
    }
   ],
   "source": [
    "#reshape\n",
    "import numpy as np\n",
    "\n",
    "arr = np.array([(1,2,3,4,5),(10,9,8,7,6)])\n",
    "print(\"Initial shape:\",arr.shape)\n",
    "print (arr)\n",
    "arr=arr.reshape(5,2)\n",
    "print(\"Shape after reshaping:\",arr.shape)\n",
    "print (arr)\n",
    "\n",
    "print(\"\\n\\n\")\n",
    "#transpose\n",
    "Trans_arr = arr.T\n",
    "print(\"\\nTranspose of Array: \")\n",
    "print(Trans_arr)"
   ]
  }
 ],
 "metadata": {
  "kernelspec": {
   "display_name": "Python 3 (ipykernel)",
   "language": "python",
   "name": "python3"
  },
  "language_info": {
   "codemirror_mode": {
    "name": "ipython",
    "version": 3
   },
   "file_extension": ".py",
   "mimetype": "text/x-python",
   "name": "python",
   "nbconvert_exporter": "python",
   "pygments_lexer": "ipython3",
   "version": "3.11.5"
  }
 },
 "nbformat": 4,
 "nbformat_minor": 5
}
