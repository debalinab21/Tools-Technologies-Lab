{
 "cells": [
  {
   "cell_type": "code",
   "execution_count": 18,
   "id": "48960a3c",
   "metadata": {},
   "outputs": [
    {
     "name": "stdout",
     "output_type": "stream",
     "text": [
      "      Id  SepalLengthCm  SepalWidthCm  PetalLengthCm  PetalWidthCm  \\\n",
      "0      1            5.1           3.5            1.4           0.2   \n",
      "1      2            4.9           3.0            1.4           0.2   \n",
      "2      3            4.7           3.2            1.3           0.2   \n",
      "3      4            4.6           3.1            1.5           0.2   \n",
      "4      5            5.0           3.6            1.4           0.2   \n",
      "..   ...            ...           ...            ...           ...   \n",
      "145  146            6.7           3.0            5.2           2.3   \n",
      "146  147            6.3           2.5            5.0           1.9   \n",
      "147  148            6.5           3.0            5.2           2.0   \n",
      "148  149            6.2           3.4            5.4           2.3   \n",
      "149  150            5.9           3.0            5.1           1.8   \n",
      "\n",
      "            Species  \n",
      "0       Iris-setosa  \n",
      "1       Iris-setosa  \n",
      "2       Iris-setosa  \n",
      "3       Iris-setosa  \n",
      "4       Iris-setosa  \n",
      "..              ...  \n",
      "145  Iris-virginica  \n",
      "146  Iris-virginica  \n",
      "147  Iris-virginica  \n",
      "148  Iris-virginica  \n",
      "149  Iris-virginica  \n",
      "\n",
      "[150 rows x 6 columns]\n"
     ]
    }
   ],
   "source": [
    "import pandas as pd\n",
    "data= pd.read_csv(\"Iris.csv\")\n",
    "print (data)"
   ]
  },
  {
   "cell_type": "code",
   "execution_count": 17,
   "id": "83da1272",
   "metadata": {},
   "outputs": [
    {
     "name": "stdout",
     "output_type": "stream",
     "text": [
      "   Id  SepalLengthCm  SepalWidthCm  PetalLengthCm  PetalWidthCm      Species\n",
      "0   1            5.1           3.5            1.4           0.2  Iris-setosa\n",
      "1   2            4.9           3.0            1.4           0.2  Iris-setosa\n",
      "2   3            4.7           3.2            1.3           0.2  Iris-setosa\n",
      "3   4            4.6           3.1            1.5           0.2  Iris-setosa\n",
      "4   5            5.0           3.6            1.4           0.2  Iris-setosa\n"
     ]
    }
   ],
   "source": [
    "print(data.head())"
   ]
  },
  {
   "cell_type": "code",
   "execution_count": 15,
   "id": "ca94db42",
   "metadata": {},
   "outputs": [
    {
     "name": "stdout",
     "output_type": "stream",
     "text": [
      "               Id  SepalLengthCm  SepalWidthCm  PetalLengthCm  PetalWidthCm\n",
      "count  150.000000     150.000000    150.000000     150.000000    150.000000\n",
      "mean    75.500000       5.843333      3.054000       3.758667      1.198667\n",
      "std     43.445368       0.828066      0.433594       1.764420      0.763161\n",
      "min      1.000000       4.300000      2.000000       1.000000      0.100000\n",
      "25%     38.250000       5.100000      2.800000       1.600000      0.300000\n",
      "50%     75.500000       5.800000      3.000000       4.350000      1.300000\n",
      "75%    112.750000       6.400000      3.300000       5.100000      1.800000\n",
      "max    150.000000       7.900000      4.400000       6.900000      2.500000\n"
     ]
    }
   ],
   "source": [
    "print(data.tail())"
   ]
  },
  {
   "cell_type": "code",
   "execution_count": 16,
   "id": "f8fcaff1",
   "metadata": {},
   "outputs": [
    {
     "name": "stdout",
     "output_type": "stream",
     "text": [
      "<class 'pandas.core.frame.DataFrame'>\n",
      "RangeIndex: 150 entries, 0 to 149\n",
      "Data columns (total 6 columns):\n",
      " #   Column         Non-Null Count  Dtype  \n",
      "---  ------         --------------  -----  \n",
      " 0   Id             150 non-null    int64  \n",
      " 1   SepalLengthCm  150 non-null    float64\n",
      " 2   SepalWidthCm   150 non-null    float64\n",
      " 3   PetalLengthCm  150 non-null    float64\n",
      " 4   PetalWidthCm   150 non-null    float64\n",
      " 5   Species        150 non-null    object \n",
      "dtypes: float64(4), int64(1), object(1)\n",
      "memory usage: 7.2+ KB\n",
      "None\n"
     ]
    }
   ],
   "source": [
    "print(data.info()) "
   ]
  },
  {
   "cell_type": "code",
   "execution_count": 13,
   "id": "41b44838",
   "metadata": {},
   "outputs": [
    {
     "name": "stdout",
     "output_type": "stream",
     "text": [
      "      Id  SepalLengthCm  SepalWidthCm  PetalLengthCm  PetalWidthCm  \\\n",
      "145  146            6.7           3.0            5.2           2.3   \n",
      "146  147            6.3           2.5            5.0           1.9   \n",
      "147  148            6.5           3.0            5.2           2.0   \n",
      "148  149            6.2           3.4            5.4           2.3   \n",
      "149  150            5.9           3.0            5.1           1.8   \n",
      "\n",
      "            Species  \n",
      "145  Iris-virginica  \n",
      "146  Iris-virginica  \n",
      "147  Iris-virginica  \n",
      "148  Iris-virginica  \n",
      "149  Iris-virginica  \n"
     ]
    }
   ],
   "source": [
    "print(data.describe()) "
   ]
  },
  {
   "cell_type": "code",
   "execution_count": 28,
   "id": "1923872b",
   "metadata": {},
   "outputs": [
    {
     "name": "stdout",
     "output_type": "stream",
     "text": [
      "                 Id  SepalLengthCm  SepalWidthCm  PetalLengthCm  PetalWidthCm\n",
      "Species                                                                      \n",
      "Iris-virginica  101            6.3           3.3            6.0           2.5\n",
      "Iris-virginica  102            5.8           2.7            5.1           1.9\n",
      "Iris-virginica  103            7.1           3.0            5.9           2.1\n",
      "Iris-virginica  104            6.3           2.9            5.6           1.8\n",
      "Iris-virginica  105            6.5           3.0            5.8           2.2\n",
      "Iris-virginica  106            7.6           3.0            6.6           2.1\n",
      "Iris-virginica  107            4.9           2.5            4.5           1.7\n",
      "Iris-virginica  108            7.3           2.9            6.3           1.8\n",
      "Iris-virginica  109            6.7           2.5            5.8           1.8\n",
      "Iris-virginica  110            7.2           3.6            6.1           2.5\n",
      "Iris-virginica  111            6.5           3.2            5.1           2.0\n",
      "Iris-virginica  112            6.4           2.7            5.3           1.9\n",
      "Iris-virginica  113            6.8           3.0            5.5           2.1\n",
      "Iris-virginica  114            5.7           2.5            5.0           2.0\n",
      "Iris-virginica  115            5.8           2.8            5.1           2.4\n",
      "Iris-virginica  116            6.4           3.2            5.3           2.3\n",
      "Iris-virginica  117            6.5           3.0            5.5           1.8\n",
      "Iris-virginica  118            7.7           3.8            6.7           2.2\n",
      "Iris-virginica  119            7.7           2.6            6.9           2.3\n",
      "Iris-virginica  120            6.0           2.2            5.0           1.5\n",
      "Iris-virginica  121            6.9           3.2            5.7           2.3\n",
      "Iris-virginica  122            5.6           2.8            4.9           2.0\n",
      "Iris-virginica  123            7.7           2.8            6.7           2.0\n",
      "Iris-virginica  124            6.3           2.7            4.9           1.8\n",
      "Iris-virginica  125            6.7           3.3            5.7           2.1\n",
      "Iris-virginica  126            7.2           3.2            6.0           1.8\n",
      "Iris-virginica  127            6.2           2.8            4.8           1.8\n",
      "Iris-virginica  128            6.1           3.0            4.9           1.8\n",
      "Iris-virginica  129            6.4           2.8            5.6           2.1\n",
      "Iris-virginica  130            7.2           3.0            5.8           1.6\n",
      "Iris-virginica  131            7.4           2.8            6.1           1.9\n",
      "Iris-virginica  132            7.9           3.8            6.4           2.0\n",
      "Iris-virginica  133            6.4           2.8            5.6           2.2\n",
      "Iris-virginica  134            6.3           2.8            5.1           1.5\n",
      "Iris-virginica  135            6.1           2.6            5.6           1.4\n",
      "Iris-virginica  136            7.7           3.0            6.1           2.3\n",
      "Iris-virginica  137            6.3           3.4            5.6           2.4\n",
      "Iris-virginica  138            6.4           3.1            5.5           1.8\n",
      "Iris-virginica  139            6.0           3.0            4.8           1.8\n",
      "Iris-virginica  140            6.9           3.1            5.4           2.1\n",
      "Iris-virginica  141            6.7           3.1            5.6           2.4\n",
      "Iris-virginica  142            6.9           3.1            5.1           2.3\n",
      "Iris-virginica  143            5.8           2.7            5.1           1.9\n",
      "Iris-virginica  144            6.8           3.2            5.9           2.3\n",
      "Iris-virginica  145            6.7           3.3            5.7           2.5\n",
      "Iris-virginica  146            6.7           3.0            5.2           2.3\n",
      "Iris-virginica  147            6.3           2.5            5.0           1.9\n",
      "Iris-virginica  148            6.5           3.0            5.2           2.0\n",
      "Iris-virginica  149            6.2           3.4            5.4           2.3\n",
      "Iris-virginica  150            5.9           3.0            5.1           1.8\n"
     ]
    }
   ],
   "source": [
    "#indexing DataFrame\n",
    "\n",
    "data = pd.read_csv(\"Iris.csv\", index_col =\"Species\") \n",
    "  \n",
    "# retrieving multiple columns by indexing operator \n",
    "first = data.loc[\"Iris-virginica\"]\n",
    "print(first)"
   ]
  },
  {
   "cell_type": "code",
   "execution_count": 34,
   "id": "1874b85c",
   "metadata": {},
   "outputs": [
    {
     "name": "stdout",
     "output_type": "stream",
     "text": [
      "                 Id  SepalLengthCm  SepalWidthCm  PetalLengthCm  PetalWidthCm\n",
      "Species                                                                      \n",
      "Iris-virginica  101            6.3           3.3            6.0           2.5\n",
      "Iris-virginica  103            7.1           3.0            5.9           2.1\n",
      "Iris-virginica  104            6.3           2.9            5.6           1.8\n",
      "Iris-virginica  105            6.5           3.0            5.8           2.2\n",
      "Iris-virginica  106            7.6           3.0            6.6           2.1\n",
      "Iris-virginica  108            7.3           2.9            6.3           1.8\n",
      "Iris-virginica  109            6.7           2.5            5.8           1.8\n",
      "Iris-virginica  110            7.2           3.6            6.1           2.5\n",
      "Iris-virginica  112            6.4           2.7            5.3           1.9\n",
      "Iris-virginica  113            6.8           3.0            5.5           2.1\n",
      "Iris-virginica  116            6.4           3.2            5.3           2.3\n",
      "Iris-virginica  117            6.5           3.0            5.5           1.8\n",
      "Iris-virginica  118            7.7           3.8            6.7           2.2\n",
      "Iris-virginica  119            7.7           2.6            6.9           2.3\n",
      "Iris-virginica  121            6.9           3.2            5.7           2.3\n",
      "Iris-virginica  123            7.7           2.8            6.7           2.0\n",
      "Iris-virginica  125            6.7           3.3            5.7           2.1\n",
      "Iris-virginica  126            7.2           3.2            6.0           1.8\n",
      "Iris-virginica  129            6.4           2.8            5.6           2.1\n",
      "Iris-virginica  130            7.2           3.0            5.8           1.6\n",
      "Iris-virginica  131            7.4           2.8            6.1           1.9\n",
      "Iris-virginica  132            7.9           3.8            6.4           2.0\n",
      "Iris-virginica  133            6.4           2.8            5.6           2.2\n",
      "Iris-virginica  135            6.1           2.6            5.6           1.4\n",
      "Iris-virginica  136            7.7           3.0            6.1           2.3\n",
      "Iris-virginica  137            6.3           3.4            5.6           2.4\n",
      "Iris-virginica  138            6.4           3.1            5.5           1.8\n",
      "Iris-virginica  140            6.9           3.1            5.4           2.1\n",
      "Iris-virginica  141            6.7           3.1            5.6           2.4\n",
      "Iris-virginica  144            6.8           3.2            5.9           2.3\n",
      "Iris-virginica  145            6.7           3.3            5.7           2.5\n",
      "Iris-virginica  149            6.2           3.4            5.4           2.3\n"
     ]
    }
   ],
   "source": [
    "#FILTERING\n",
    "\n",
    "c1 = data['SepalLengthCm'] > 6.0\n",
    "c2 = data['PetalLengthCm'] > 5.2\n",
    "\n",
    "filtered_df = data.loc[c1 & c2]\n",
    "print (filtered_df)"
   ]
  },
  {
   "cell_type": "code",
   "execution_count": 49,
   "id": "edc0346b",
   "metadata": {},
   "outputs": [],
   "source": [
    "if filtered_df.empty:\n",
    "    print(\"No rows satisfy the given conditions.\")\n",
    "    \n",
    "if data.isnull().any().any():\n",
    "    df = data.dropna() "
   ]
  },
  {
   "cell_type": "code",
   "execution_count": 53,
   "id": "d76b4c06",
   "metadata": {},
   "outputs": [],
   "source": [
    "#grouping and aggregating data.\n",
    "\n",
    "#import pandas as pd \n",
    "  \n",
    "# Creating our dataset \n",
    "#df = pd.DataFrame([[9, 4, 8, 9], [8, 10, 7, 6], [7, 6, 8, 5]], \n",
    "#columns=['Maths',  'English', 'Science', 'Computer']) \n",
    "  \n",
    "# display dataset \n",
    "#print(df) "
   ]
  },
  {
   "cell_type": "code",
   "execution_count": 51,
   "id": "791c337d",
   "metadata": {},
   "outputs": [
    {
     "data": {
      "text/plain": [
       "Id               11325.0\n",
       "SepalLengthCm      876.5\n",
       "SepalWidthCm       458.1\n",
       "PetalLengthCm      563.8\n",
       "PetalWidthCm       179.8\n",
       "dtype: float64"
      ]
     },
     "execution_count": 51,
     "metadata": {},
     "output_type": "execute_result"
    }
   ],
   "source": [
    "data.sum()"
   ]
  },
  {
   "cell_type": "code",
   "execution_count": 50,
   "id": "e1ea1726",
   "metadata": {},
   "outputs": [
    {
     "data": {
      "text/html": [
       "<div>\n",
       "<style scoped>\n",
       "    .dataframe tbody tr th:only-of-type {\n",
       "        vertical-align: middle;\n",
       "    }\n",
       "\n",
       "    .dataframe tbody tr th {\n",
       "        vertical-align: top;\n",
       "    }\n",
       "\n",
       "    .dataframe thead th {\n",
       "        text-align: right;\n",
       "    }\n",
       "</style>\n",
       "<table border=\"1\" class=\"dataframe\">\n",
       "  <thead>\n",
       "    <tr style=\"text-align: right;\">\n",
       "      <th></th>\n",
       "      <th>Id</th>\n",
       "      <th>SepalLengthCm</th>\n",
       "      <th>SepalWidthCm</th>\n",
       "      <th>PetalLengthCm</th>\n",
       "      <th>PetalWidthCm</th>\n",
       "    </tr>\n",
       "  </thead>\n",
       "  <tbody>\n",
       "    <tr>\n",
       "      <th>count</th>\n",
       "      <td>150.000000</td>\n",
       "      <td>150.000000</td>\n",
       "      <td>150.000000</td>\n",
       "      <td>150.000000</td>\n",
       "      <td>150.000000</td>\n",
       "    </tr>\n",
       "    <tr>\n",
       "      <th>mean</th>\n",
       "      <td>75.500000</td>\n",
       "      <td>5.843333</td>\n",
       "      <td>3.054000</td>\n",
       "      <td>3.758667</td>\n",
       "      <td>1.198667</td>\n",
       "    </tr>\n",
       "    <tr>\n",
       "      <th>std</th>\n",
       "      <td>43.445368</td>\n",
       "      <td>0.828066</td>\n",
       "      <td>0.433594</td>\n",
       "      <td>1.764420</td>\n",
       "      <td>0.763161</td>\n",
       "    </tr>\n",
       "    <tr>\n",
       "      <th>min</th>\n",
       "      <td>1.000000</td>\n",
       "      <td>4.300000</td>\n",
       "      <td>2.000000</td>\n",
       "      <td>1.000000</td>\n",
       "      <td>0.100000</td>\n",
       "    </tr>\n",
       "    <tr>\n",
       "      <th>25%</th>\n",
       "      <td>38.250000</td>\n",
       "      <td>5.100000</td>\n",
       "      <td>2.800000</td>\n",
       "      <td>1.600000</td>\n",
       "      <td>0.300000</td>\n",
       "    </tr>\n",
       "    <tr>\n",
       "      <th>50%</th>\n",
       "      <td>75.500000</td>\n",
       "      <td>5.800000</td>\n",
       "      <td>3.000000</td>\n",
       "      <td>4.350000</td>\n",
       "      <td>1.300000</td>\n",
       "    </tr>\n",
       "    <tr>\n",
       "      <th>75%</th>\n",
       "      <td>112.750000</td>\n",
       "      <td>6.400000</td>\n",
       "      <td>3.300000</td>\n",
       "      <td>5.100000</td>\n",
       "      <td>1.800000</td>\n",
       "    </tr>\n",
       "    <tr>\n",
       "      <th>max</th>\n",
       "      <td>150.000000</td>\n",
       "      <td>7.900000</td>\n",
       "      <td>4.400000</td>\n",
       "      <td>6.900000</td>\n",
       "      <td>2.500000</td>\n",
       "    </tr>\n",
       "  </tbody>\n",
       "</table>\n",
       "</div>"
      ],
      "text/plain": [
       "               Id  SepalLengthCm  SepalWidthCm  PetalLengthCm  PetalWidthCm\n",
       "count  150.000000     150.000000    150.000000     150.000000    150.000000\n",
       "mean    75.500000       5.843333      3.054000       3.758667      1.198667\n",
       "std     43.445368       0.828066      0.433594       1.764420      0.763161\n",
       "min      1.000000       4.300000      2.000000       1.000000      0.100000\n",
       "25%     38.250000       5.100000      2.800000       1.600000      0.300000\n",
       "50%     75.500000       5.800000      3.000000       4.350000      1.300000\n",
       "75%    112.750000       6.400000      3.300000       5.100000      1.800000\n",
       "max    150.000000       7.900000      4.400000       6.900000      2.500000"
      ]
     },
     "execution_count": 50,
     "metadata": {},
     "output_type": "execute_result"
    }
   ],
   "source": [
    "data.describe()"
   ]
  },
  {
   "cell_type": "code",
   "execution_count": 54,
   "id": "09f0e6cb",
   "metadata": {},
   "outputs": [
    {
     "name": "stdout",
     "output_type": "stream",
     "text": [
      "        Id  SepalLengthCm  SepalWidthCm  PetalLengthCm  PetalWidthCm\n",
      "sum  11325          876.5         458.1          563.8         179.8\n",
      "min      1            4.3           2.0            1.0           0.1\n",
      "max    150            7.9           4.4            6.9           2.5\n"
     ]
    }
   ],
   "source": [
    "print (data.agg(['sum', 'min', 'max']))"
   ]
  }
 ],
 "metadata": {
  "kernelspec": {
   "display_name": "Python 3 (ipykernel)",
   "language": "python",
   "name": "python3"
  },
  "language_info": {
   "codemirror_mode": {
    "name": "ipython",
    "version": 3
   },
   "file_extension": ".py",
   "mimetype": "text/x-python",
   "name": "python",
   "nbconvert_exporter": "python",
   "pygments_lexer": "ipython3",
   "version": "3.11.5"
  }
 },
 "nbformat": 4,
 "nbformat_minor": 5
}
